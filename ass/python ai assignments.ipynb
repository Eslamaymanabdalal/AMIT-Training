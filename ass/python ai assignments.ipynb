{
 "cells": [
  {
   "cell_type": "markdown",
   "id": "c067dcd9",
   "metadata": {},
   "source": [
    "### Q1. Create a list of five integers and print it."
   ]
  },
  {
   "cell_type": "code",
   "execution_count": null,
   "id": "19a0e252",
   "metadata": {},
   "outputs": [
    {
     "name": "stdout",
     "output_type": "stream",
     "text": [
      "[10, 20, 30, 40, 50]\n"
     ]
    }
   ],
   "source": [
    "\n",
    "numbers = [10, 20, 30, 40, 50]\n",
    "print(numbers)\n"
   ]
  },
  {
   "cell_type": "markdown",
   "id": "a2d05fd3",
   "metadata": {},
   "source": [
    "### Q2. Write a program to find the length of a list."
   ]
  },
  {
   "cell_type": "code",
   "execution_count": null,
   "id": "6b75c5d1",
   "metadata": {},
   "outputs": [
    {
     "name": "stdout",
     "output_type": "stream",
     "text": [
      "Length of the list: 5\n"
     ]
    }
   ],
   "source": [
    "\n",
    "my_list = [5, 8, 12, 20, 25]\n",
    "length = len(my_list)\n",
    "print(\"Length of the list:\", length)\n"
   ]
  },
  {
   "cell_type": "markdown",
   "id": "c705d6ac",
   "metadata": {},
   "source": [
    "### Q3. Create a tuple with three elements and print the second item."
   ]
  },
  {
   "cell_type": "code",
   "execution_count": null,
   "id": "61c1e11e",
   "metadata": {},
   "outputs": [
    {
     "name": "stdout",
     "output_type": "stream",
     "text": [
      "The second item is: banana\n"
     ]
    }
   ],
   "source": [
    "\n",
    "my_tuple = ('apple', 'banana', 'cherry')\n",
    "print(\"The second item is:\", my_tuple[1])\n"
   ]
  },
  {
   "cell_type": "markdown",
   "id": "a3fb1843",
   "metadata": {},
   "source": [
    "### Q4. Create a dictionary with 3 key-value pairs and print all keys."
   ]
  },
  {
   "cell_type": "code",
   "execution_count": null,
   "id": "c588c043",
   "metadata": {},
   "outputs": [
    {
     "name": "stdout",
     "output_type": "stream",
     "text": [
      "Keys in the dictionary: dict_keys(['name', 'age', 'city'])\n"
     ]
    }
   ],
   "source": [
    "\n",
    "my_dict = {\n",
    "    \"name\": \"Alice\",\n",
    "    \"age\": 25,\n",
    "    \"city\": \"Cairo\"\n",
    "}\n",
    "\n",
    "print(\"Keys in the dictionary:\", my_dict.keys())\n",
    "\n"
   ]
  },
  {
   "cell_type": "markdown",
   "id": "499c5644",
   "metadata": {},
   "source": [
    "### Q5. Write a program to convert a list into a set."
   ]
  },
  {
   "cell_type": "code",
   "execution_count": null,
   "id": "5b3e7b61",
   "metadata": {},
   "outputs": [
    {
     "name": "stdout",
     "output_type": "stream",
     "text": [
      "Original list: [1, 2, 3, 2, 4, 1]\n",
      "Converted set: {1, 2, 3, 4}\n"
     ]
    }
   ],
   "source": [
    "\n",
    "my_list = [1, 2, 3, 2, 4, 1]\n",
    "my_set = set(my_list)\n",
    "\n",
    "print(\"Original list:\", my_list)\n",
    "print(\"Converted set:\", my_set)\n"
   ]
  },
  {
   "cell_type": "markdown",
   "id": "a0e55b4f",
   "metadata": {},
   "source": [
    "### Q6. Create a string and print its first and last characters."
   ]
  },
  {
   "cell_type": "code",
   "execution_count": null,
   "id": "b5cc0d08",
   "metadata": {},
   "outputs": [
    {
     "name": "stdout",
     "output_type": "stream",
     "text": [
      "First character: P\n",
      "Last character: n\n"
     ]
    }
   ],
   "source": [
    "\n",
    "my_string = \"Python\"\n",
    "\n",
    "first_char = my_string[0]\n",
    "last_char = my_string[-1]\n",
    "\n",
    "print(\"First character:\", first_char)\n",
    "print(\"Last character:\", last_char)\n"
   ]
  },
  {
   "cell_type": "markdown",
   "id": "f4adb032",
   "metadata": {},
   "source": [
    "### Q7. Take input from the user and print it."
   ]
  },
  {
   "cell_type": "code",
   "execution_count": null,
   "id": "cc325325",
   "metadata": {},
   "outputs": [],
   "source": [
    "user_input = \"Sample input\"\n",
    "print(\"Q7: User input:\", user_input)\n"
   ]
  },
  {
   "cell_type": "markdown",
   "id": "32003cd3",
   "metadata": {},
   "source": [
    "### Q8. Write a program to add two numbers entered by the user."
   ]
  },
  {
   "cell_type": "code",
   "execution_count": null,
   "id": "1cce015b",
   "metadata": {},
   "outputs": [],
   "source": [
    "num1, num2 = 15, 25\n",
    "result = num1 + num2\n",
    "print(\"Q8: Sum of\", num1, \"and\", num2, \"is:\", result)"
   ]
  },
  {
   "cell_type": "markdown",
   "id": "7eb34a32",
   "metadata": {},
   "source": [
    "### Q9. Use `type()` function to check the data type of a variable."
   ]
  },
  {
   "cell_type": "code",
   "execution_count": null,
   "id": "cfd2011d",
   "metadata": {},
   "outputs": [],
   "source": [
    "\n",
    "x = 42\n",
    "print(\"The type of x is:\", type(x))\n"
   ]
  },
  {
   "cell_type": "markdown",
   "id": "03c07369",
   "metadata": {},
   "source": [
    "### Q9. Use `type()` function to check the data type of a variable."
   ]
  },
  {
   "cell_type": "code",
   "execution_count": null,
   "id": "595d5fef",
   "metadata": {},
   "outputs": [],
   "source": [
    "\n",
    "a = 3.14\n",
    "print(\"The type of a is:\", type(a))\n"
   ]
  },
  {
   "cell_type": "markdown",
   "id": "53765968",
   "metadata": {},
   "source": []
  },
  {
   "cell_type": "markdown",
   "id": "ec09d782",
   "metadata": {},
   "source": [
    "### Q11. Check if a number is positive, negative, or zero using `if` statement."
   ]
  },
  {
   "cell_type": "code",
   "execution_count": null,
   "id": "0623e6d5",
   "metadata": {},
   "outputs": [],
   "source": [
    "\n",
    "num = float(input(\"Enter a number: \"))\n",
    "\n",
    "if num > 0:\n",
    "    print(\"The number is positive.\")\n",
    "elif num < 0:\n",
    "    print(\"The number is negative.\")\n",
    "else:\n",
    "    print(\"The number is zero.\")\n"
   ]
  },
  {
   "cell_type": "markdown",
   "id": "79b115a2",
   "metadata": {},
   "source": [
    "### Q12. Write a program to check if a number is even or odd."
   ]
  },
  {
   "cell_type": "code",
   "execution_count": null,
   "id": "efcc28dc",
   "metadata": {},
   "outputs": [],
   "source": [
    "# Q12. Check if a number is even or odd\n",
    "num = int(input(\"Enter a number: \"))\n",
    "\n",
    "if num % 2 == 0:\n",
    "    print(\"The number is even.\")\n",
    "else:\n",
    "    print(\"The number is odd.\")\n"
   ]
  },
  {
   "cell_type": "markdown",
   "id": "4e15996d",
   "metadata": {},
   "source": [
    "### Q13. Write a program that prints your name 3 times using a `for` loop."
   ]
  },
  {
   "cell_type": "code",
   "execution_count": null,
   "id": "a213b9fd",
   "metadata": {},
   "outputs": [],
   "source": [
    "\n",
    "for i in range(3):\n",
    "    print(\"Eslam Ayman\")\n"
   ]
  },
  {
   "cell_type": "markdown",
   "id": "3deb94cc",
   "metadata": {},
   "source": [
    "### Q14. Write a `for` loop that prints numbers from 1 to 10."
   ]
  },
  {
   "cell_type": "code",
   "execution_count": null,
   "id": "2f806196",
   "metadata": {},
   "outputs": [],
   "source": [
    "\n",
    "for i in range(1, 11):\n",
    "    print(i)\n"
   ]
  },
  {
   "cell_type": "markdown",
   "id": "ede90dd1",
   "metadata": {},
   "source": [
    "### Q15. Use a `for` loop to iterate over a list and print each element."
   ]
  },
  {
   "cell_type": "code",
   "execution_count": null,
   "id": "ca9ff07e",
   "metadata": {},
   "outputs": [],
   "source": [
    "\n",
    "my_list = ['apple', 'banana', 'cherry', 'date']\n",
    "\n",
    "for item in my_list:\n",
    "    print(item)\n"
   ]
  },
  {
   "cell_type": "markdown",
   "id": "3294fc6d",
   "metadata": {},
   "source": [
    "### Q15. Use a `for` loop to iterate over a list and print each element."
   ]
  },
  {
   "cell_type": "markdown",
   "id": "850c2ca8",
   "metadata": {},
   "source": [
    "### Q16. Write a program to calculate the sum of numbers from 1 to 100."
   ]
  },
  {
   "cell_type": "code",
   "execution_count": null,
   "id": "16a8cd5c",
   "metadata": {},
   "outputs": [],
   "source": [
    "\n",
    "total = 0\n",
    "for i in range(1, 101):\n",
    "    total += i\n",
    "\n",
    "print(\"The sum from 1 to 100 is:\", total)\n"
   ]
  },
  {
   "cell_type": "markdown",
   "id": "6250746b",
   "metadata": {},
   "source": [
    "### Q17. Write a `for` loop that prints only even numbers from 1 to 20."
   ]
  },
  {
   "cell_type": "code",
   "execution_count": null,
   "id": "2764eb99",
   "metadata": {},
   "outputs": [],
   "source": [
    "\n",
    "for i in range(1, 21):\n",
    "    if i % 2 == 0:\n",
    "        print(i)\n"
   ]
  },
  {
   "cell_type": "markdown",
   "id": "3b2408b5",
   "metadata": {},
   "source": [
    "### Q18. Write a `for` loop to print each character in a string."
   ]
  },
  {
   "cell_type": "code",
   "execution_count": null,
   "id": "fc73c912",
   "metadata": {},
   "outputs": [],
   "source": [
    "\n",
    "my_string = \"Python\"\n",
    "\n",
    "for char in my_string:\n",
    "    print(char)\n"
   ]
  },
  {
   "cell_type": "markdown",
   "id": "c75cb287",
   "metadata": {},
   "source": [
    "### Q19. Use a `for` loop to print all values in a dictionary."
   ]
  },
  {
   "cell_type": "code",
   "execution_count": null,
   "id": "62d9d757",
   "metadata": {},
   "outputs": [],
   "source": [
    "\n",
    "my_dict = {\n",
    "    \"name\": \"Eslam\",\n",
    "    \"age\": 22,\n",
    "    \"city\": \"Cairo\"\n",
    "}\n",
    "\n",
    "for value in my_dict.values():\n",
    "    print(value)\n"
   ]
  },
  {
   "cell_type": "markdown",
   "id": "6994e4ca",
   "metadata": {},
   "source": [
    "### Q20. Write a program that uses a `for` loop to find the factorial of a number."
   ]
  },
  {
   "cell_type": "code",
   "execution_count": null,
   "id": "254cb435",
   "metadata": {},
   "outputs": [],
   "source": [
    "\n",
    "\n",
    "num = int(input(\"Enter a number: \"))\n",
    "factorial = 1\n",
    "\n",
    "if num < 0:\n",
    "    print(\"Factorial does not exist for negative numbers.\")\n",
    "elif num == 0:\n",
    "    print(\"The factorial of 0 is 1.\")\n",
    "else:\n",
    "    for i in range(1, num + 1):\n",
    "        factorial *= i\n",
    "    print(f\"The factorial of {num} is {factorial}.\")\n"
   ]
  },
  {
   "cell_type": "markdown",
   "id": "92d3b300",
   "metadata": {},
   "source": [
    "### Q21. Create a list of your 5 favorite fruits."
   ]
  },
  {
   "cell_type": "code",
   "execution_count": null,
   "id": "3f2d07e3",
   "metadata": {},
   "outputs": [],
   "source": [
    "\n",
    "favorite_fruits = [\"mango\", \"banana\", \"apple\", \"strawberry\", \"orange\"]\n",
    "print(\"My favorite fruits are:\", favorite_fruits)\n"
   ]
  },
  {
   "cell_type": "markdown",
   "id": "e3433500",
   "metadata": {},
   "source": [
    "### Q22. Add a new fruit to your list of favorite fruits."
   ]
  },
  {
   "cell_type": "code",
   "execution_count": null,
   "id": "f9ffd8d2",
   "metadata": {},
   "outputs": [],
   "source": [
    "\n",
    "favorite_fruits = [\"mango\", \"banana\", \"apple\", \"strawberry\", \"orange\"]\n",
    "\n",
    "# Add a new fruit\n",
    "favorite_fruits.append(\"grape\")\n",
    "\n",
    "print(\"Updated list of favorite fruits:\", favorite_fruits)\n"
   ]
  },
  {
   "cell_type": "markdown",
   "id": "a33917e4",
   "metadata": {},
   "source": [
    "### Q23. Remove the second item from a list."
   ]
  },
  {
   "cell_type": "code",
   "execution_count": null,
   "id": "0fac364c",
   "metadata": {},
   "outputs": [],
   "source": [
    "\n",
    "fruits = [\"mango\", \"banana\", \"apple\", \"strawberry\", \"orange\"]\n",
    "\n",
    "# Remove the second item (index 1)\n",
    "fruits.pop(1)\n",
    "\n",
    "print(\"Updated list:\", fruits)\n"
   ]
  },
  {
   "cell_type": "markdown",
   "id": "497047c6",
   "metadata": {},
   "source": [
    "### Q24. Sort a list of numbers in descending order."
   ]
  },
  {
   "cell_type": "code",
   "execution_count": null,
   "id": "b9717e06",
   "metadata": {},
   "outputs": [],
   "source": [
    "\n",
    "numbers = [5, 12, 3, 8, 1, 20]\n",
    "\n",
    "# Sort in descending order\n",
    "numbers.sort(reverse=True)\n",
    "\n",
    "print(\"Sorted list (descending):\", numbers)\n"
   ]
  },
  {
   "cell_type": "markdown",
   "id": "6a3a29ad",
   "metadata": {},
   "source": [
    "### Q25. Find the maximum and minimum values in a list."
   ]
  },
  {
   "cell_type": "code",
   "execution_count": null,
   "id": "82cc41dd",
   "metadata": {},
   "outputs": [],
   "source": [
    "items = [1, 2, 3, 2, 4, 2, 5]\n",
    "count = items.count(2)\n",
    "print(\"Q26: Number 2 appears\", count, \"times\")"
   ]
  },
  {
   "cell_type": "markdown",
   "id": "a5077085",
   "metadata": {},
   "source": [
    "### Q26. Count how many times a value appears in a list."
   ]
  },
  {
   "cell_type": "code",
   "execution_count": null,
   "id": "5953d267",
   "metadata": {},
   "outputs": [],
   "source": [
    "\n",
    "numbers = [4, 2, 7, 4, 4, 9, 2, 4]\n",
    "\n",
    "# Count how many times 4 appears\n",
    "count_4 = numbers.count(4)\n",
    "\n",
    "print(\"The number 4 appears\", count_4, \"times.\")\n"
   ]
  },
  {
   "cell_type": "markdown",
   "id": "e767871e",
   "metadata": {},
   "source": [
    "### Q27. Check if a specific value exists in a list."
   ]
  },
  {
   "cell_type": "code",
   "execution_count": null,
   "id": "97bb90bd",
   "metadata": {},
   "outputs": [],
   "source": [
    "\n",
    "fruits = [\"apple\", \"banana\", \"mango\", \"orange\"]\n",
    "\n",
    "# Check if \"banana\" is in the list\n",
    "if \"banana\" in fruits:\n",
    "    print(\"Yes, 'banana' is in the list.\")\n",
    "else:\n",
    "    print(\"No, 'banana' is not in the list.\")\n"
   ]
  },
  {
   "cell_type": "markdown",
   "id": "346632ba",
   "metadata": {},
   "source": [
    "### Q28. Reverse a list without using reverse() function."
   ]
  },
  {
   "cell_type": "code",
   "execution_count": null,
   "id": "663befc6",
   "metadata": {},
   "outputs": [],
   "source": [
    "\n",
    "fruits = [\"apple\", \"banana\", \"mango\", \"orange\"]\n",
    "\n",
    "# Check if \"banana\" is in the list\n",
    "if \"banana\" in fruits:\n",
    "    print(\"Yes, 'banana' is in the list.\")\n",
    "else:\n",
    "    print(\"No, 'banana' is not in the list.\")\n"
   ]
  },
  {
   "cell_type": "markdown",
   "id": "4f28f319",
   "metadata": {},
   "source": [
    "### Q29. Make a copy of a list and modify the copy only."
   ]
  },
  {
   "cell_type": "code",
   "execution_count": null,
   "id": "e665fc96",
   "metadata": {},
   "outputs": [],
   "source": [
    "\n",
    "original_list = [\"apple\", \"banana\", \"mango\"]\n",
    "\n",
    "# Make a copy of the list\n",
    "copied_list = original_list.copy()\n",
    "\n",
    "# Modify the copied list\n",
    "copied_list.append(\"grape\")\n",
    "\n",
    "print(\"Original list:\", original_list)\n",
    "print(\"Copied list (modified):\", copied_list)\n"
   ]
  },
  {
   "cell_type": "markdown",
   "id": "4fd7ffdf",
   "metadata": {},
   "source": [
    "### Q30. Use slicing to get the first 3 items of a list."
   ]
  },
  {
   "cell_type": "code",
   "execution_count": null,
   "id": "5109bd94",
   "metadata": {},
   "outputs": [],
   "source": [
    "\n",
    "fruits = [\"apple\", \"banana\", \"mango\", \"orange\", \"grape\"]\n",
    "\n",
    "first_three = fruits[:3]\n",
    "\n",
    "print(\"First 3 items:\", first_three)\n"
   ]
  },
  {
   "cell_type": "markdown",
   "id": "fa7d8cbc",
   "metadata": {},
   "source": [
    "### Q31. Create a tuple with 4 elements and print its length."
   ]
  },
  {
   "cell_type": "code",
   "execution_count": null,
   "id": "1d519f4c",
   "metadata": {},
   "outputs": [],
   "source": [
    "\n",
    "my_tuple = (10, 20, 30, 40)\n",
    "\n",
    "print(\"Tuple:\", my_tuple)\n",
    "print(\"Length of the tuple:\", len(my_tuple))\n"
   ]
  },
  {
   "cell_type": "markdown",
   "id": "1fc14e2a",
   "metadata": {},
   "source": [
    "### Q32. Access the last element of a tuple."
   ]
  },
  {
   "cell_type": "code",
   "execution_count": null,
   "id": "924f8f7f",
   "metadata": {},
   "outputs": [],
   "source": [
    "\n",
    "my_tuple = (\"apple\", \"banana\", \"cherry\", \"date\")\n",
    "\n",
    "# Accessing the last element using negative indexing\n",
    "last_item = my_tuple[-1]\n",
    "\n",
    "print(\"Last element of the tuple:\", last_item)\n",
    "\n"
   ]
  },
  {
   "cell_type": "markdown",
   "id": "31393230",
   "metadata": {},
   "source": [
    "### Q33. Convert a tuple into a list."
   ]
  },
  {
   "cell_type": "code",
   "execution_count": null,
   "id": "d419f723",
   "metadata": {},
   "outputs": [],
   "source": [
    "\n",
    "my_tuple = (\"apple\", \"banana\", \"cherry\")\n",
    "\n",
    "# Convert tuple to list\n",
    "my_list = list(my_tuple)\n",
    "\n",
    "print(\"Original tuple:\", my_tuple)\n",
    "print(\"Converted list:\", my_list)\n"
   ]
  },
  {
   "cell_type": "markdown",
   "id": "f2605bd7",
   "metadata": {},
   "source": [
    "### Q34. Convert a list into a tuple."
   ]
  },
  {
   "cell_type": "code",
   "execution_count": null,
   "id": "2fc2424c",
   "metadata": {},
   "outputs": [],
   "source": [
    "\n",
    "my_list = [\"apple\", \"banana\", \"cherry\"]\n",
    "\n",
    "# Convert list to tuple\n",
    "my_tuple = tuple(my_list)\n",
    "\n",
    "print(\"Original list:\", my_list)\n",
    "print(\"Converted tuple:\", my_tuple)\n"
   ]
  },
  {
   "cell_type": "markdown",
   "id": "8ea26fed",
   "metadata": {},
   "source": [
    "### Q35. Check if a value exists in a tuple."
   ]
  },
  {
   "cell_type": "code",
   "execution_count": null,
   "id": "502ca8ef",
   "metadata": {},
   "outputs": [],
   "source": [
    "\n",
    "my_tuple = (\"apple\", \"banana\", \"cherry\", \"date\")\n",
    "\n",
    "# Check if \"banana\" is in the tuple\n",
    "if \"banana\" in my_tuple:\n",
    "    print(\"Yes, 'banana' is in the tuple.\")\n",
    "else:\n",
    "    print(\"No, 'banana' is not in the tuple.\")\n"
   ]
  },
  {
   "cell_type": "markdown",
   "id": "1861d487",
   "metadata": {},
   "source": [
    "### Q36. Concatenate two tuples."
   ]
  },
  {
   "cell_type": "code",
   "execution_count": null,
   "id": "cce592e9",
   "metadata": {},
   "outputs": [],
   "source": [
    "\n",
    "tuple1 = (\"apple\", \"banana\")\n",
    "tuple2 = (\"cherry\", \"date\")\n",
    "\n",
    "# Concatenate the tuples\n",
    "combined_tuple = tuple1 + tuple2\n",
    "\n",
    "print(\"Concatenated tuple:\", combined_tuple)\n"
   ]
  },
  {
   "cell_type": "markdown",
   "id": "7d818dff",
   "metadata": {},
   "source": [
    "### Q35. Check if a value exists in a tuple."
   ]
  },
  {
   "cell_type": "code",
   "execution_count": null,
   "id": "25990032",
   "metadata": {},
   "outputs": [],
   "source": [
    "\n",
    "my_tuple = (\"apple\", \"banana\", \"cherry\", \"date\")\n",
    "\n",
    "# Check if \"banana\" is in the tuple\n",
    "if \"banana\" in my_tuple:\n",
    "    print(\"Yes, 'banana' is in the tuple.\")\n",
    "else:\n",
    "    print(\"No, 'banana' is not in the tuple.\")\n"
   ]
  },
  {
   "cell_type": "markdown",
   "id": "7a62f436",
   "metadata": {},
   "source": [
    "### Q37. Repeat a tuple 3 times."
   ]
  },
  {
   "cell_type": "code",
   "execution_count": null,
   "id": "1342d94a",
   "metadata": {},
   "outputs": [],
   "source": [
    "# Q37. Repeat a tuple 3 times\n",
    "my_tuple = (\"apple\", \"banana\")\n",
    "\n",
    "# Repeat the tuple 3 times\n",
    "repeated_tuple = my_tuple * 3\n",
    "\n",
    "print(\"Repeated tuple:\", repeated_tuple)\n"
   ]
  },
  {
   "cell_type": "markdown",
   "id": "5d54389e",
   "metadata": {},
   "source": [
    "### Q38. Find the index of an element in a tuple."
   ]
  },
  {
   "cell_type": "code",
   "execution_count": null,
   "id": "3dbcc47b",
   "metadata": {},
   "outputs": [],
   "source": [
    "# Q38. Find the index of an element in a tuple\n",
    "my_tuple = (\"apple\", \"banana\", \"cherry\", \"date\")\n",
    "\n",
    "# Find the index of \"cherry\"\n",
    "index = my_tuple.index(\"cherry\")\n",
    "\n",
    "print(\"The index of 'cherry' is:\", index)\n"
   ]
  },
  {
   "cell_type": "markdown",
   "id": "41e0cb37",
   "metadata": {},
   "source": [
    "### Q39. Use tuple unpacking to assign values to variables."
   ]
  },
  {
   "cell_type": "code",
   "execution_count": null,
   "id": "b38c6788",
   "metadata": {},
   "outputs": [],
   "source": [
    "\n",
    "my_tuple = (\"apple\", \"banana\", \"cherry\")\n",
    "\n",
    "# Unpack the tuple into variables\n",
    "fruit1, fruit2, fruit3 = my_tuple\n",
    "\n",
    "print(\"Fruit 1:\", fruit1)\n",
    "print(\"Fruit 2:\", fruit2)\n",
    "print(\"Fruit 3:\", fruit3)\n"
   ]
  },
  {
   "cell_type": "markdown",
   "id": "70b69ddd",
   "metadata": {},
   "source": [
    "### Q40. Create a nested list and access an inner element."
   ]
  },
  {
   "cell_type": "code",
   "execution_count": null,
   "id": "0d05b3e7",
   "metadata": {},
   "outputs": [],
   "source": [
    "\n",
    "nested_list = [\n",
    "    [\"apple\", \"banana\"],\n",
    "    [\"cherry\", \"date\"],\n",
    "    [\"fig\", \"grape\"]\n",
    "]\n",
    "\n",
    "# Access \"date\" (which is the second element of the second list)\n",
    "inner_element = nested_list[1][1]\n",
    "\n",
    "print(\"Accessed inner element:\", inner_element)\n"
   ]
  },
  {
   "cell_type": "markdown",
   "id": "70256f64",
   "metadata": {},
   "source": [
    "### Q41. Create a set of 5 unique colors."
   ]
  },
  {
   "cell_type": "code",
   "execution_count": null,
   "id": "4be1c2bb",
   "metadata": {},
   "outputs": [],
   "source": [
    "\n",
    "color_set = {\"red\", \"blue\", \"green\", \"yellow\", \"purple\"}\n",
    "\n",
    "print(\"Set of colors:\", color_set)\n"
   ]
  },
  {
   "cell_type": "markdown",
   "id": "774bddd7",
   "metadata": {},
   "source": [
    "### Q42. Add a new color to the set."
   ]
  },
  {
   "cell_type": "code",
   "execution_count": null,
   "id": "9129a921",
   "metadata": {},
   "outputs": [],
   "source": [
    "\n",
    "color_set = {\"red\", \"blue\", \"green\", \"yellow\", \"purple\"}\n",
    "\n",
    "# Add a new color\n",
    "color_set.add(\"orange\")\n",
    "\n",
    "print(\"Updated set of colors:\", color_set)\n"
   ]
  },
  {
   "cell_type": "markdown",
   "id": "3cc0470c",
   "metadata": {},
   "source": [
    "### Q43. Remove an item from the set using `remove()`."
   ]
  },
  {
   "cell_type": "code",
   "execution_count": null,
   "id": "e85423ac",
   "metadata": {},
   "outputs": [],
   "source": [
    "\n",
    "color_set = {\"red\", \"blue\", \"green\", \"yellow\", \"purple\"}\n",
    "\n",
    "# Remove \"green\" from the set\n",
    "color_set.remove(\"green\")\n",
    "\n",
    "print(\"Updated set of colors:\", color_set)\n"
   ]
  },
  {
   "cell_type": "markdown",
   "id": "b7047e3b",
   "metadata": {},
   "source": [
    "### Q44. Use `discard()` to remove an item that may or may not exist."
   ]
  },
  {
   "cell_type": "code",
   "execution_count": null,
   "id": "adf2b3c2",
   "metadata": {},
   "outputs": [],
   "source": [
    "\n",
    "color_set = {\"red\", \"blue\", \"green\", \"yellow\", \"purple\"}\n",
    "\n",
    "# Try to remove \"orange\" (which is not in the set)\n",
    "color_set.discard(\"orange\")\n",
    "\n",
    "print(\"Updated set of colors:\", color_set)\n"
   ]
  },
  {
   "cell_type": "markdown",
   "id": "0c0338ca",
   "metadata": {},
   "source": [
    "### Q45. Create a set from a list with duplicate values."
   ]
  },
  {
   "cell_type": "code",
   "execution_count": null,
   "id": "6918aaf4",
   "metadata": {},
   "outputs": [],
   "source": [
    "duplicate_list = [1, 2, 2, 3, 3, 4, 4, 5]\n",
    "unique_set = set(duplicate_list)\n",
    "print(\"Q45: Set from list with duplicates:\", unique_set)"
   ]
  },
  {
   "cell_type": "markdown",
   "id": "531ece70",
   "metadata": {},
   "source": [
    "### Q46. Find the union of two sets."
   ]
  },
  {
   "cell_type": "code",
   "execution_count": null,
   "id": "f7c8d3a1",
   "metadata": {},
   "outputs": [],
   "source": [
    "set1 = {1, 2, 3, 4}\n",
    "set2 = {3, 4, 5, 6}\n",
    "union_set = set1.union(set2)\n",
    "print(\"Q46: Union of sets:\", union_set)"
   ]
  },
  {
   "cell_type": "markdown",
   "id": "37ddac6b",
   "metadata": {},
   "source": [
    "### Q47. Find the intersection of two sets."
   ]
  },
  {
   "cell_type": "code",
   "execution_count": null,
   "id": "cbb3d58f",
   "metadata": {},
   "outputs": [],
   "source": [
    "intersection_set = set1.intersection(set2)\n",
    "print(\"Q47: Intersection of sets:\", intersection_set)"
   ]
  },
  {
   "cell_type": "markdown",
   "id": "cfba12fb",
   "metadata": {},
   "source": [
    "### Q48. Find the difference between two sets."
   ]
  },
  {
   "cell_type": "code",
   "execution_count": null,
   "id": "87d9d198",
   "metadata": {},
   "outputs": [],
   "source": [
    "difference_set = set1.difference(set2)\n",
    "print(\"Q48: Difference (set1 - set2):\", difference_set)"
   ]
  },
  {
   "cell_type": "markdown",
   "id": "fe3124b5",
   "metadata": {},
   "source": [
    "### Q49. Check if a set is a subset of another set."
   ]
  },
  {
   "cell_type": "code",
   "execution_count": null,
   "id": "9414638f",
   "metadata": {},
   "outputs": [],
   "source": [
    "subset = {1, 2}\n",
    "superset = {1, 2, 3, 4, 5}\n",
    "is_subset = subset.issubset(superset)\n",
    "print(\"Q49: Is {1, 2} a subset of {1, 2, 3, 4, 5}?\", is_subset)\n"
   ]
  },
  {
   "cell_type": "markdown",
   "id": "3155bdce",
   "metadata": {},
   "source": [
    "### Q50. Check if two sets are disjoint."
   ]
  },
  {
   "cell_type": "code",
   "execution_count": null,
   "id": "14b85863",
   "metadata": {},
   "outputs": [],
   "source": [
    "set_a = {1, 2, 3}\n",
    "set_b = {4, 5, 6}\n",
    "are_disjoint = set_a.isdisjoint(set_b)\n",
    "print(\"Q50: Are sets {1, 2, 3} and {4, 5, 6} disjoint?\", are_disjoint)\n"
   ]
  },
  {
   "cell_type": "markdown",
   "id": "bad362eb",
   "metadata": {},
   "source": [
    "### Q51. Create a dictionary with 3 items: name, age, and city."
   ]
  },
  {
   "cell_type": "code",
   "execution_count": null,
   "id": "e2ae3ccd",
   "metadata": {},
   "outputs": [],
   "source": [
    "person = {\"name\": \"Sarah\", \"age\": 28, \"city\": \"Boston\"}\n",
    "print(\"Q51: Person dictionary:\", person)\n"
   ]
  },
  {
   "cell_type": "markdown",
   "id": "222708fb",
   "metadata": {},
   "source": [
    "### Q52. Add a new key-value pair to the dictionary."
   ]
  },
  {
   "cell_type": "code",
   "execution_count": null,
   "id": "f309e8a9",
   "metadata": {},
   "outputs": [],
   "source": [
    "person[\"occupation\"] = \"Engineer\"\n",
    "print(\"Q52: After adding occupation:\", person)"
   ]
  },
  {
   "cell_type": "markdown",
   "id": "608c6307",
   "metadata": {},
   "source": [
    "### Q53. Update the value of an existing key in the dictionary."
   ]
  },
  {
   "cell_type": "code",
   "execution_count": null,
   "id": "a47b25b9",
   "metadata": {},
   "outputs": [],
   "source": [
    "person[\"age\"] = 29\n",
    "print(\"Q53: After updating age:\", person)"
   ]
  },
  {
   "cell_type": "markdown",
   "id": "99e23fe0",
   "metadata": {},
   "source": [
    "### Q54. Remove a key from the dictionary using `pop()`."
   ]
  },
  {
   "cell_type": "code",
   "execution_count": null,
   "id": "eb851e69",
   "metadata": {},
   "outputs": [],
   "source": [
    "removed_value = person.pop(\"city\")\n",
    "print(\"Q54: Removed value:\", removed_value)\n",
    "print(\"Q54: Dictionary after removal:\", person)"
   ]
  },
  {
   "cell_type": "markdown",
   "id": "c84dbe1f",
   "metadata": {},
   "source": [
    "### Q55. Check if a key exists in the dictionary."
   ]
  },
  {
   "cell_type": "code",
   "execution_count": null,
   "id": "6c8dfaec",
   "metadata": {},
   "outputs": [],
   "source": [
    "if \"name\" in person:\n",
    "    print(\"Q55: 'name' key exists in dictionary\")\n",
    "else:\n",
    "    print(\"Q55: 'name' key does not exist in dictionary\")\n"
   ]
  },
  {
   "cell_type": "markdown",
   "id": "430ec294",
   "metadata": {},
   "source": [
    "### Q56. Loop through a dictionary and print all keys and values."
   ]
  },
  {
   "cell_type": "code",
   "execution_count": null,
   "id": "6795ec48",
   "metadata": {},
   "outputs": [],
   "source": [
    "print(\"Q56: Dictionary keys and values:\")\n",
    "for key, value in person.items():\n",
    "    print(f\"{key}: {value}\")\n"
   ]
  },
  {
   "cell_type": "markdown",
   "id": "da3690bb",
   "metadata": {},
   "source": [
    "### Q57. Get all keys from a dictionary using `keys()`."
   ]
  },
  {
   "cell_type": "code",
   "execution_count": null,
   "id": "cb54c698",
   "metadata": {},
   "outputs": [],
   "source": [
    "all_keys = person.keys()\n",
    "print(\"Q57: All keys:\", list(all_keys))"
   ]
  },
  {
   "cell_type": "markdown",
   "id": "d31b70c5",
   "metadata": {},
   "source": [
    "### Q58. Get all values from a dictionary using `values()`."
   ]
  },
  {
   "cell_type": "code",
   "execution_count": null,
   "id": "3a766b70",
   "metadata": {},
   "outputs": [],
   "source": [
    "all_values = person.values()\n",
    "print(\"Q58: All values:\", list(all_values))"
   ]
  },
  {
   "cell_type": "markdown",
   "id": "b0a9ba1f",
   "metadata": {},
   "source": [
    "### Q59. Get all key-value pairs using `items()`."
   ]
  },
  {
   "cell_type": "code",
   "execution_count": null,
   "id": "10080491",
   "metadata": {},
   "outputs": [],
   "source": [
    "all_items = person.items()\n",
    "print(\"Q59: All key-value pairs:\", list(all_items))\n"
   ]
  },
  {
   "cell_type": "markdown",
   "id": "58cd862e",
   "metadata": {},
   "source": [
    "### Q60. Create a dictionary from two lists: one for keys and one for values."
   ]
  },
  {
   "cell_type": "code",
   "execution_count": null,
   "id": "24a5326f",
   "metadata": {},
   "outputs": [],
   "source": [
    "keys_list = [\"name\", \"age\", \"city\", \"country\"]\n",
    "values_list = [\"Emma\", 24, \"London\", \"UK\"]\n",
    "combined_dict = dict(zip(keys_list, values_list))\n",
    "print(\"Q60: Dictionary from two lists:\", combined_dict)"
   ]
  }
 ],
 "metadata": {
  "kernelspec": {
   "display_name": "Python 3",
   "language": "python",
   "name": "python3"
  },
  "language_info": {
   "codemirror_mode": {
    "name": "ipython",
    "version": 3
   },
   "file_extension": ".py",
   "mimetype": "text/x-python",
   "name": "python",
   "nbconvert_exporter": "python",
   "pygments_lexer": "ipython3",
   "version": "3.13.5"
  }
 },
 "nbformat": 4,
 "nbformat_minor": 5
}
